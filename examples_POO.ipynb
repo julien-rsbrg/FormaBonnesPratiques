{
 "cells": [
  {
   "cell_type": "markdown",
   "metadata": {},
   "source": [
    "# Examples of Programmation Oriented Object in Python"
   ]
  },
  {
   "cell_type": "markdown",
   "metadata": {},
   "source": [
    "main source: https://docs.python.org/3/tutorial/classes.html"
   ]
  },
  {
   "cell_type": "markdown",
   "metadata": {},
   "source": [
    "## Simple class"
   ]
  },
  {
   "cell_type": "code",
   "execution_count": 7,
   "metadata": {},
   "outputs": [],
   "source": [
    "class Mogwai:\n",
    "    height = 50             # class variable shared by all instances\n",
    "    # method run during instanciation\n",
    "    def __init__(self, name):\n",
    "        self.name = name    # instance variable unique to each instance\n",
    "        self.state = \"normal mogwai\"\n",
    "\n",
    "    def transform(self):\n",
    "        self.state = \"gremlin\"\n",
    "    \n",
    "    def rename(self,new_name):\n",
    "        self.name = new_name"
   ]
  },
  {
   "cell_type": "code",
   "execution_count": 8,
   "metadata": {},
   "outputs": [
    {
     "name": "stdout",
     "output_type": "stream",
     "text": [
      "states at first\n",
      " normal mogwai normal mogwai\n",
      "states then\n",
      " normal mogwai gremlin\n"
     ]
    }
   ],
   "source": [
    "chienchilla = Mogwai('Chienchilla')\n",
    "gizmo = Mogwai('Gizmo')\n",
    "print(\"states at first\\n\",gizmo.state,chienchilla.state)\n",
    "chienchilla.transform()\n",
    "print(\"states then\\n\",gizmo.state,chienchilla.state)"
   ]
  },
  {
   "cell_type": "markdown",
   "metadata": {},
   "source": [
    "**Remark**: \n",
    "Be very careful of the scope of your variables. In the following cell, it seems fine but still..."
   ]
  },
  {
   "cell_type": "code",
   "execution_count": 9,
   "metadata": {},
   "outputs": [
    {
     "name": "stdout",
     "output_type": "stream",
     "text": [
      "heights at first\n",
      " 50 50\n",
      "heights then\n",
      " 50 70\n"
     ]
    }
   ],
   "source": [
    "print(\"heights at first\\n\",gizmo.height,chienchilla.height)\n",
    "chienchilla.height = 70\n",
    "print(\"heights then\\n\",gizmo.height,chienchilla.height)"
   ]
  },
  {
   "cell_type": "markdown",
   "metadata": {},
   "source": [
    "## Subclassing"
   ]
  },
  {
   "cell_type": "code",
   "execution_count": 10,
   "metadata": {},
   "outputs": [],
   "source": [
    "class SuperMogwai(Mogwai):\n",
    "    height = 80\n",
    "\n",
    "    def __init__(self, name):\n",
    "        super().__init__(name) # call the __init__ function of the base class\n",
    "        self.name = name  \n",
    "        self.state = \"super mogwai\""
   ]
  },
  {
   "cell_type": "code",
   "execution_count": 13,
   "metadata": {},
   "outputs": [
    {
     "name": "stdout",
     "output_type": "stream",
     "text": [
      "klark.state and height: super mogwai 80\n"
     ]
    }
   ],
   "source": [
    "klark = SuperMogwai(\"Klark\")\n",
    "print(\"klark.state and height:\",klark.state,klark.height)"
   ]
  },
  {
   "cell_type": "markdown",
   "metadata": {},
   "source": [
    "## More advanced: *args et **kwargs "
   ]
  },
  {
   "cell_type": "markdown",
   "metadata": {},
   "source": [
    "`*args` and `**kwargs` enable a function to receive an unedefined number of elements. While `*args` will keep arguments in a `tuple` type, `**kwargs` will keep the arguments in a `dictionary` type (kw standing for keyword)."
   ]
  },
  {
   "cell_type": "code",
   "execution_count": 21,
   "metadata": {},
   "outputs": [
    {
     "name": "stdout",
     "output_type": "stream",
     "text": [
      "(1, 2, 3, 'stranger')\n",
      "True\n"
     ]
    }
   ],
   "source": [
    "def show_example_args(*args):\n",
    "    print(args)\n",
    "    print(isinstance(args,tuple))\n",
    "\n",
    "show_example_args(1,2,3,'stranger')"
   ]
  },
  {
   "cell_type": "code",
   "execution_count": 26,
   "metadata": {},
   "outputs": [
    {
     "name": "stdout",
     "output_type": "stream",
     "text": [
      "{'a': 1, 'b': 2, 'c': 3, 'd': 'stranger'}\n",
      "True\n"
     ]
    }
   ],
   "source": [
    "def show_example_kwargs(**kwargs):\n",
    "    print(kwargs)\n",
    "    print(isinstance(kwargs,dict))\n",
    "\n",
    "show_example_kwargs(a=1,b=2,c=3,d='stranger')"
   ]
  },
  {
   "cell_type": "markdown",
   "metadata": {},
   "source": [
    "One can clearly understand how useful this can become :"
   ]
  },
  {
   "cell_type": "code",
   "execution_count": 27,
   "metadata": {},
   "outputs": [],
   "source": [
    "class StupidMaster:\n",
    "    def __init__(self, **kwargs):\n",
    "        for key, value in kwargs.items():\n",
    "            setattr(self, key, value)"
   ]
  },
  {
   "cell_type": "code",
   "execution_count": 30,
   "metadata": {},
   "outputs": [
    {
     "name": "stdout",
     "output_type": "stream",
     "text": [
      "firstname: Billy , family name: Peltzer , age: 25\n"
     ]
    }
   ],
   "source": [
    "billy = StupidMaster(firstname=\"Billy\",family_name=\"Peltzer\",age=25)\n",
    "print(\"firstname:\",billy.firstname,\", family name:\",billy.family_name,\", age:\",billy.age)"
   ]
  },
  {
   "cell_type": "markdown",
   "metadata": {},
   "source": [
    "**Remark**: Actually, all that matters is the presence or not of the * before the name, the name itself being insignificant. See:"
   ]
  },
  {
   "cell_type": "code",
   "execution_count": 1,
   "metadata": {},
   "outputs": [
    {
     "name": "stdout",
     "output_type": "stream",
     "text": [
      "(1, 2, 3, 'stranger')\n",
      "True\n",
      "{'a': 1, 'b': 2, 'c': 3, 'd': 'stranger'}\n",
      "True\n"
     ]
    }
   ],
   "source": [
    "def show_example_args(*the_name_I_want):\n",
    "    print(the_name_I_want)\n",
    "    print(isinstance(the_name_I_want,tuple))\n",
    "\n",
    "show_example_args(1,2,3,'stranger')\n",
    "\n",
    "def show_example_kwargs(**the_name_I_want):\n",
    "    print(the_name_I_want)\n",
    "    print(isinstance(the_name_I_want,dict))\n",
    "\n",
    "show_example_kwargs(a=1,b=2,c=3,d='stranger')"
   ]
  }
 ],
 "metadata": {
  "kernelspec": {
   "display_name": "Python 3.10.6 64-bit",
   "language": "python",
   "name": "python3"
  },
  "language_info": {
   "codemirror_mode": {
    "name": "ipython",
    "version": 3
   },
   "file_extension": ".py",
   "mimetype": "text/x-python",
   "name": "python",
   "nbconvert_exporter": "python",
   "pygments_lexer": "ipython3",
   "version": "3.10.6"
  },
  "orig_nbformat": 4,
  "vscode": {
   "interpreter": {
    "hash": "369f2c481f4da34e4445cda3fffd2e751bd1c4d706f27375911949ba6bb62e1c"
   }
  }
 },
 "nbformat": 4,
 "nbformat_minor": 2
}
