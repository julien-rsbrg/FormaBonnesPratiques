{
 "cells": [
  {
   "cell_type": "markdown",
   "metadata": {},
   "source": [
    "# Examples of logging in Python"
   ]
  },
  {
   "cell_type": "code",
   "execution_count": 7,
   "metadata": {},
   "outputs": [
    {
     "name": "stdout",
     "output_type": "stream",
     "text": [
      "The autoreload extension is already loaded. To reload it, use:\n",
      "  %reload_ext autoreload\n"
     ]
    }
   ],
   "source": [
    "# Reload all modules every time before executing the Python code typed\n",
    "%load_ext autoreload\n",
    "%autoreload 2"
   ]
  },
  {
   "cell_type": "markdown",
   "metadata": {},
   "source": [
    "main source: https://www.codingem.com/log-file-in-python/"
   ]
  },
  {
   "cell_type": "markdown",
   "metadata": {},
   "source": [
    "**Remark**:\n",
    "You can run the `examples_logging.py` instead of the following cells. A Jupyter Notebook does not handle the `logging` well and will act unexpectedly as you will see."
   ]
  },
  {
   "cell_type": "markdown",
   "metadata": {},
   "source": [
    "## First example"
   ]
  },
  {
   "cell_type": "markdown",
   "metadata": {},
   "source": [
    "The first step is to import the library and set the configuration. In this first, example a file `log.txt` should have been created near this `example_logging.ipynb` notebook with the line: \"DEBUG:root:message example 1\"."
   ]
  },
  {
   "cell_type": "code",
   "execution_count": null,
   "metadata": {},
   "outputs": [],
   "source": [
    "import logging \n",
    "logging.basicConfig(filename=\"log.txt\", level=logging.DEBUG)\n",
    "logging.debug(\"message example 1\")"
   ]
  },
  {
   "cell_type": "markdown",
   "metadata": {},
   "source": [
    "In filename is informed the file where the logging will be recorded.\n",
    "\n",
    "In level is informed the minimum level of criticality that the logging library will record with respect to the following table."
   ]
  },
  {
   "cell_type": "markdown",
   "metadata": {},
   "source": [
    "$$\n",
    "\\begin{array}{lc}\n",
    "\\hline\n",
    "   {~~~~~\\textbf{Level}} & {{\\textbf{Numeric value}}}  \\\\\n",
    "   \\hline \n",
    "   \\text{CRITICAL} & 50 \\\\\n",
    "   \\text{ERROR} & 40 \\\\\n",
    "   \\text{WARNING} & 30 \\\\\n",
    "   \\text{INFO} & 20 \\\\\n",
    "   \\text{DEBUG} & 10 \\\\\n",
    "\\hline\n",
    "\\end{array}\n",
    "\n",
    "$$"
   ]
  },
  {
   "cell_type": "markdown",
   "metadata": {},
   "source": [
    "For instance, `level=logging.WARNING` will allow only critical, error and warning messages."
   ]
  },
  {
   "cell_type": "markdown",
   "metadata": {},
   "source": [
    "The fonction `debug` indicates the level of criticality of the message and could be replaced by the levels of the tables with lower case letters."
   ]
  },
  {
   "cell_type": "markdown",
   "metadata": {},
   "source": [
    "**Remark:**\n",
    "\n",
    "If you use other librairies like `matplotlib.pyplot`, these librairies might use `logging.debug` and consequently your `log.txt` with lines you do not care about. A solution is to set the level in the logging configuration to a larger criticality level than `DEBUG`."
   ]
  },
  {
   "cell_type": "markdown",
   "metadata": {},
   "source": [
    "## How to change the format"
   ]
  },
  {
   "cell_type": "markdown",
   "metadata": {},
   "source": [
    "To change the format, you merely have to change the argument in `basicConfig`."
   ]
  },
  {
   "cell_type": "code",
   "execution_count": 2,
   "metadata": {},
   "outputs": [],
   "source": [
    "import logging \n",
    "logging.basicConfig(filename=\"log.txt\", level=logging.DEBUG, format=\"%(asctime)s-%(levelname)s-%(message)s\")\n",
    "logging.debug(\"message example 2\")"
   ]
  },
  {
   "cell_type": "markdown",
   "metadata": {},
   "source": [
    "Here, after running `examples_logging.py` with `run_example=2`. You should almost get these two lines:\n",
    "\n",
    "DEBUG:root:message example 1\n",
    "\n",
    "2022-11-18 11:00:32,081-DEBUG-message example 2\n"
   ]
  },
  {
   "cell_type": "markdown",
   "metadata": {},
   "source": [
    "You understand that `asctime` display the global time of the log."
   ]
  },
  {
   "cell_type": "markdown",
   "metadata": {},
   "source": [
    "## How to delete the previous lines"
   ]
  },
  {
   "cell_type": "markdown",
   "metadata": {},
   "source": [
    "The argument `filemode` set to `\"w\"` will overwrite the file `log.txt`, if it already exists. "
   ]
  },
  {
   "cell_type": "code",
   "execution_count": 6,
   "metadata": {},
   "outputs": [],
   "source": [
    "import logging \n",
    "logging.basicConfig(filename=\"log.txt\", level=logging.DEBUG, format=\"%(asctime)s-%(levelname)s-%(message)s\",filemode=\"w\")\n",
    "logging.debug(\"message example 3\")"
   ]
  },
  {
   "cell_type": "markdown",
   "metadata": {},
   "source": [
    "After running with `run_example` set to `3`, you should get only one line:\n",
    "\n",
    "2022-11-18 11:06:58,646-DEBUG-message example 3"
   ]
  }
 ],
 "metadata": {
  "kernelspec": {
   "display_name": "Python 3.10.6 64-bit",
   "language": "python",
   "name": "python3"
  },
  "language_info": {
   "codemirror_mode": {
    "name": "ipython",
    "version": 3
   },
   "file_extension": ".py",
   "mimetype": "text/x-python",
   "name": "python",
   "nbconvert_exporter": "python",
   "pygments_lexer": "ipython3",
   "version": "3.10.6"
  },
  "orig_nbformat": 4,
  "vscode": {
   "interpreter": {
    "hash": "369f2c481f4da34e4445cda3fffd2e751bd1c4d706f27375911949ba6bb62e1c"
   }
  }
 },
 "nbformat": 4,
 "nbformat_minor": 2
}
