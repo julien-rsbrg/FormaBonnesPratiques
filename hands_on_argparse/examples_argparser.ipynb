{
 "cells": [
  {
   "cell_type": "markdown",
   "metadata": {},
   "source": [
    "# Examples of argparser"
   ]
  },
  {
   "cell_type": "code",
   "execution_count": 1,
   "metadata": {},
   "outputs": [],
   "source": [
    "# Reload all modules every time before executing the Python code typed\n",
    "%load_ext autoreload\n",
    "%autoreload 2"
   ]
  },
  {
   "cell_type": "code",
   "execution_count": 2,
   "metadata": {},
   "outputs": [
    {
     "name": "stdout",
     "output_type": "stream",
     "text": [
      "c:\\Users\\jtros\\CS\\assos\\automatants\\VPLog\\formations\\formaBonnesPratiquesProgra\\examples\\hands_on_argparse\n"
     ]
    }
   ],
   "source": [
    "!cd "
   ]
  },
  {
   "cell_type": "markdown",
   "metadata": {},
   "source": [
    "## run_example=0"
   ]
  },
  {
   "cell_type": "code",
   "execution_count": 3,
   "metadata": {},
   "outputs": [
    {
     "name": "stdout",
     "output_type": "stream",
     "text": [
      "usage: examples_argparser.py [-h] [-v] square\n",
      "\n",
      "example 0 of argparse (change run_example variable to change the example)\n",
      "\n",
      "positional arguments:\n",
      "  square           display a square of a given number\n",
      "\n",
      "options:\n",
      "  -h, --help       show this help message and exit\n",
      "  -v, --verbosity  increase output verbosity\n"
     ]
    }
   ],
   "source": [
    "!python examples_argparser.py -h"
   ]
  },
  {
   "cell_type": "markdown",
   "metadata": {},
   "source": [
    "A positional argument like `square` compel us to set it to a value."
   ]
  },
  {
   "cell_type": "code",
   "execution_count": 20,
   "metadata": {},
   "outputs": [
    {
     "name": "stderr",
     "output_type": "stream",
     "text": [
      "usage: examples_argparser.py [-h] [-v] square\n",
      "examples_argparser.py: error: the following arguments are required: square\n"
     ]
    }
   ],
   "source": [
    "!python examples_argparser.py"
   ]
  },
  {
   "cell_type": "markdown",
   "metadata": {},
   "source": [
    "Correction:"
   ]
  },
  {
   "cell_type": "code",
   "execution_count": 19,
   "metadata": {},
   "outputs": [
    {
     "name": "stdout",
     "output_type": "stream",
     "text": [
      "9\n"
     ]
    }
   ],
   "source": [
    "!python examples_argparser.py 3"
   ]
  },
  {
   "cell_type": "markdown",
   "metadata": {},
   "source": [
    "Add verbosity:"
   ]
  },
  {
   "cell_type": "code",
   "execution_count": 27,
   "metadata": {},
   "outputs": [
    {
     "name": "stdout",
     "output_type": "stream",
     "text": [
      "the square of 3 equals 9\n",
      "the square of 3 equals 9\n",
      "3^2 == 9\n",
      "the square of 3 equals 9\n"
     ]
    }
   ],
   "source": [
    "!python examples_argparser.py 3 -vvv\n",
    "!python examples_argparser.py 3 -vv\n",
    "!python examples_argparser.py 3 -v \n",
    "!python examples_argparser.py 3 -v --verbosity"
   ]
  },
  {
   "cell_type": "markdown",
   "metadata": {},
   "source": [
    "It does not matter where `square` is set:"
   ]
  },
  {
   "cell_type": "code",
   "execution_count": 28,
   "metadata": {},
   "outputs": [
    {
     "name": "stdout",
     "output_type": "stream",
     "text": [
      "the square of 3 equals 9\n",
      "the square of 3 equals 9\n"
     ]
    }
   ],
   "source": [
    "!python examples_argparser.py -v --verbosity 3\n",
    "!python examples_argparser.py -v 3 --verbosity"
   ]
  },
  {
   "cell_type": "markdown",
   "metadata": {},
   "source": [
    "## run_example=1"
   ]
  },
  {
   "cell_type": "markdown",
   "metadata": {},
   "source": [
    "Does the order matter when there are several positional arguments ?"
   ]
  },
  {
   "cell_type": "markdown",
   "metadata": {},
   "source": [
    "After setting the `run_example` variable to 1:"
   ]
  },
  {
   "cell_type": "code",
   "execution_count": 34,
   "metadata": {},
   "outputs": [
    {
     "name": "stdout",
     "output_type": "stream",
     "text": [
      "Running 'c:\\Users\\jtros\\CS\\assos\\automatants\\VPLog\\formations\\maFormaTipsIA\\examples\\examples_argparser.py'\n",
      "4^3 == 64\n",
      "Running 'c:\\Users\\jtros\\CS\\assos\\automatants\\VPLog\\formations\\maFormaTipsIA\\examples\\examples_argparser.py'\n",
      "3^4 == 81\n"
     ]
    }
   ],
   "source": [
    "!python examples_argparser.py -v --verbosity 4 3 \n",
    "!python examples_argparser.py -v --verbosity 3 4"
   ]
  }
 ],
 "metadata": {
  "kernelspec": {
   "display_name": "Python 3.10.6 ('venv_bonnes_pratiques': venv)",
   "language": "python",
   "name": "python3"
  },
  "language_info": {
   "codemirror_mode": {
    "name": "ipython",
    "version": 3
   },
   "file_extension": ".py",
   "mimetype": "text/x-python",
   "name": "python",
   "nbconvert_exporter": "python",
   "pygments_lexer": "ipython3",
   "version": "3.10.6"
  },
  "orig_nbformat": 4,
  "vscode": {
   "interpreter": {
    "hash": "307996d2769eb3ce596f77581c2c891d138626983a132d435ef4c786095dc53d"
   }
  }
 },
 "nbformat": 4,
 "nbformat_minor": 2
}
