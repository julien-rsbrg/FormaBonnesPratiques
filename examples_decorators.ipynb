{
 "cells": [
  {
   "cell_type": "markdown",
   "metadata": {},
   "source": [
    "# Examples of decorators"
   ]
  },
  {
   "cell_type": "markdown",
   "metadata": {},
   "source": [
    "main source: https://python.doctor/page-decorateurs-decorator-python-cours-debutants"
   ]
  },
  {
   "cell_type": "markdown",
   "metadata": {},
   "source": [
    "## A simple decorator"
   ]
  },
  {
   "cell_type": "code",
   "execution_count": 1,
   "metadata": {},
   "outputs": [
    {
     "name": "stdout",
     "output_type": "stream",
     "text": [
      "Action before .............. \n",
      "Execution of the instructions here\n",
      "Action after ..............\n"
     ]
    }
   ],
   "source": [
    "def my_decorator(function):\n",
    "\n",
    "    def other_function(*args, **kwargs): # see the end of examples_POO for more information on * and **\n",
    "        print(\"Action before .............. \")\n",
    "        function(*args, **kwargs)\n",
    "        print(\"Action after ..............\")\n",
    "\n",
    "    return other_function\n",
    "\n",
    "\n",
    "@my_decorator\n",
    "def do_that(message):\n",
    "    print(\"Execution of the instructions %s\" % message)\n",
    "\n",
    "do_that('here')"
   ]
  },
  {
   "cell_type": "markdown",
   "metadata": {},
   "source": [
    "Tweaking it a little, we get this:"
   ]
  },
  {
   "cell_type": "code",
   "execution_count": 2,
   "metadata": {},
   "outputs": [
    {
     "name": "stdout",
     "output_type": "stream",
     "text": [
      "time of execution of sum_before is 0.063441 s.\n",
      "sum_before output: 2000001000000\n"
     ]
    }
   ],
   "source": [
    "import time\n",
    "\n",
    "def measure_exec_time(function):\n",
    "    def other_function(*args, **kwargs): # see the end of examples_POO for more information on * and **\n",
    "        start = time.time()\n",
    "        outputs = function(*args, **kwargs)\n",
    "        end = time.time()\n",
    "        print(\"time of execution of %s is %f s.\" %(function.__name__, end-start))\n",
    "        return outputs\n",
    "\n",
    "    return other_function\n",
    "\n",
    "\n",
    "@measure_exec_time\n",
    "def sum_before(n):\n",
    "    sum=0\n",
    "    for i in range(1,n+1):\n",
    "        sum+=i\n",
    "    return sum\n",
    "\n",
    "print(\"sum_before output:\",sum_before(2000000))"
   ]
  },
  {
   "cell_type": "markdown",
   "metadata": {},
   "source": [
    "## More advanced decorators"
   ]
  },
  {
   "cell_type": "markdown",
   "metadata": {},
   "source": [
    "Inspired by dynamic programming, let us create a decorator that handle this memoization technique for all the functions of interest."
   ]
  },
  {
   "cell_type": "code",
   "execution_count": 46,
   "metadata": {},
   "outputs": [
    {
     "name": "stdout",
     "output_type": "stream",
     "text": [
      "Execution time with memoization: 1.5657999999802995e-07\n",
      "Execution time without memoization: 1.4087080000012974e-05\n"
     ]
    }
   ],
   "source": [
    "import timeit\n",
    "\n",
    "def func_memoize(function):\n",
    "    memo = {} # this variable will be unique to each function func_memoize is applied to\n",
    "\n",
    "    def other_function(*args):\n",
    "        if args not in memo:\n",
    "            memo[args] = function(*args)\n",
    "        # .. todo: deepcopy here if returning objects\n",
    "        return memo[args]\n",
    "\n",
    "    return other_function\n",
    "\n",
    "@func_memoize\n",
    "def fibo_rec(n):\n",
    "    if n==0:\n",
    "        return 0\n",
    "    elif n==1:\n",
    "        return 1\n",
    "    else:\n",
    "        return  fibo_rec(n-1)+fibo_rec(n-2)\n",
    "\n",
    "\n",
    "def fibo_rec_alone(n):\n",
    "    if n==0:\n",
    "        return 0\n",
    "    elif n==1:\n",
    "        return 1\n",
    "    else:\n",
    "        return  fibo_rec_alone(n-1)+fibo_rec_alone(n-2)\n",
    "\n",
    "number = 10000\n",
    "print(\"Execution time with memoization:\",timeit.timeit(lambda:fibo_rec(10), number=number)/number) \n",
    "print(\"Execution time without memoization:\", timeit.timeit(lambda:fibo_rec_alone(10), number=number)/number)"
   ]
  },
  {
   "cell_type": "markdown",
   "metadata": {},
   "source": [
    "But you can also use a class:"
   ]
  },
  {
   "cell_type": "code",
   "execution_count": 49,
   "metadata": {},
   "outputs": [
    {
     "name": "stdout",
     "output_type": "stream",
     "text": [
      "Execution time with memoization: 1.9009999998615968e-07\n",
      "Execution time without memoization: 1.3563240000007681e-05\n"
     ]
    }
   ],
   "source": [
    "class Memoize:\n",
    "    def __init__(self, function):\n",
    "        self.function = function\n",
    "        self.memo = {}\n",
    "\n",
    "    def __call__(self, *args):\n",
    "        if args not in self.memo:\n",
    "            self.memo[args] = self.function(*args)\n",
    "        # .. todo: deepcopy here if returning objects\n",
    "        return self.memo[args]\n",
    "    \n",
    "\n",
    "@Memoize\n",
    "def fibo_rec(n):\n",
    "    if n==0:\n",
    "        return 0\n",
    "    elif n==1:\n",
    "        return 1\n",
    "    else:\n",
    "        return  fibo_rec(n-1)+fibo_rec(n-2)\n",
    "\n",
    "number = 10000\n",
    "print(\"Execution time with memoization:\",timeit.timeit(lambda:fibo_rec(10), number=number)/number) \n",
    "print(\"Execution time without memoization:\", timeit.timeit(lambda:fibo_rec_alone(10), number=number)/number)\n"
   ]
  }
 ],
 "metadata": {
  "kernelspec": {
   "display_name": "Python 3.10.6 64-bit",
   "language": "python",
   "name": "python3"
  },
  "language_info": {
   "codemirror_mode": {
    "name": "ipython",
    "version": 3
   },
   "file_extension": ".py",
   "mimetype": "text/x-python",
   "name": "python",
   "nbconvert_exporter": "python",
   "pygments_lexer": "ipython3",
   "version": "3.10.6"
  },
  "orig_nbformat": 4,
  "vscode": {
   "interpreter": {
    "hash": "369f2c481f4da34e4445cda3fffd2e751bd1c4d706f27375911949ba6bb62e1c"
   }
  }
 },
 "nbformat": 4,
 "nbformat_minor": 2
}
