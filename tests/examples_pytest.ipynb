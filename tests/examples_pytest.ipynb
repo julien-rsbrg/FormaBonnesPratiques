{
 "cells": [
  {
   "cell_type": "markdown",
   "metadata": {},
   "source": [
    "# Examples of Pytest"
   ]
  },
  {
   "cell_type": "markdown",
   "metadata": {},
   "source": [
    "main source: https://docs.pytest.org/en/7.2.x/getting-started.html#get-started"
   ]
  },
  {
   "cell_type": "markdown",
   "metadata": {},
   "source": [
    "## Raising an error"
   ]
  },
  {
   "cell_type": "markdown",
   "metadata": {},
   "source": [
    "First, do you already know how to raise an error ?"
   ]
  },
  {
   "cell_type": "markdown",
   "metadata": {},
   "source": [
    "### Assertion"
   ]
  },
  {
   "cell_type": "markdown",
   "metadata": {},
   "source": [
    "The easiest one is the `asset` command."
   ]
  },
  {
   "cell_type": "code",
   "execution_count": 5,
   "metadata": {},
   "outputs": [
    {
     "ename": "AssertionError",
     "evalue": "1!=2",
     "output_type": "error",
     "traceback": [
      "\u001b[1;31m---------------------------------------------------------------------------\u001b[0m",
      "\u001b[1;31mAssertionError\u001b[0m                            Traceback (most recent call last)",
      "Cell \u001b[1;32mIn [5], line 2\u001b[0m\n\u001b[0;32m      1\u001b[0m \u001b[39massert\u001b[39;00m \u001b[39m1\u001b[39m\u001b[39m+\u001b[39m\u001b[39m1\u001b[39m\u001b[39m==\u001b[39m\u001b[39m2\u001b[39m\n\u001b[1;32m----> 2\u001b[0m \u001b[39massert\u001b[39;00m \u001b[39m1\u001b[39m\u001b[39m==\u001b[39m\u001b[39m2\u001b[39m, \u001b[39m'\u001b[39m\u001b[39m1!=2\u001b[39m\u001b[39m'\u001b[39m\n",
      "\u001b[1;31mAssertionError\u001b[0m: 1!=2"
     ]
    }
   ],
   "source": [
    "assert 1+1==2\n",
    "assert 1==2, '1!=2'"
   ]
  },
  {
   "cell_type": "markdown",
   "metadata": {},
   "source": [
    "Here, no issue the first assertion but with the second one. The element after the comma will be a message to understand where the bug comes from. While keeping only one element after the comma, you can complexify this message at will:"
   ]
  },
  {
   "cell_type": "code",
   "execution_count": 8,
   "metadata": {},
   "outputs": [
    {
     "ename": "AssertionError",
     "evalue": "('1!=2', 'you dummy!')",
     "output_type": "error",
     "traceback": [
      "\u001b[1;31m---------------------------------------------------------------------------\u001b[0m",
      "\u001b[1;31mAssertionError\u001b[0m                            Traceback (most recent call last)",
      "Cell \u001b[1;32mIn [8], line 2\u001b[0m\n\u001b[0;32m      1\u001b[0m x,y \u001b[39m=\u001b[39m \u001b[39m1\u001b[39m,\u001b[39m2\u001b[39m\n\u001b[1;32m----> 2\u001b[0m \u001b[39massert\u001b[39;00m x\u001b[39m==\u001b[39my, (\u001b[39mstr\u001b[39m(x)\u001b[39m+\u001b[39m\u001b[39m'\u001b[39m\u001b[39m!=\u001b[39m\u001b[39m'\u001b[39m\u001b[39m+\u001b[39m\u001b[39mstr\u001b[39m(y), \u001b[39m'\u001b[39m\u001b[39myou dummy!\u001b[39m\u001b[39m'\u001b[39m)\n",
      "\u001b[1;31mAssertionError\u001b[0m: ('1!=2', 'you dummy!')"
     ]
    }
   ],
   "source": [
    "x,y = 1,2\n",
    "assert x==y, (str(x)+'!='+str(y), 'you dummy!')"
   ]
  },
  {
   "cell_type": "markdown",
   "metadata": {},
   "source": [
    "### Class exceptions"
   ]
  },
  {
   "cell_type": "markdown",
   "metadata": {},
   "source": [
    "They allow us more flexibility but are harder to set."
   ]
  },
  {
   "cell_type": "markdown",
   "metadata": {},
   "source": [
    "main source: https://www.programiz.com/python-programming/user-defined-exception"
   ]
  },
  {
   "cell_type": "markdown",
   "metadata": {},
   "source": [
    "#### An easy class exception"
   ]
  },
  {
   "cell_type": "markdown",
   "metadata": {},
   "source": [
    "You can try out with different `number` values."
   ]
  },
  {
   "cell_type": "code",
   "execution_count": 35,
   "metadata": {},
   "outputs": [
    {
     "name": "stdout",
     "output_type": "stream",
     "text": [
      "Value too large: number==21\n",
      "--Yet the largest expected one is 20\n"
     ]
    }
   ],
   "source": [
    "class UnexpectedType(Exception):\n",
    "    pass\n",
    "\n",
    "class ValueTooLarge(Exception):\n",
    "    pass\n",
    "\n",
    "\n",
    "number = 21\n",
    "max_number=20\n",
    "try :\n",
    "    if isinstance(number,int):\n",
    "        if number>=max_number:\n",
    "            raise ValueTooLarge\n",
    "        else:\n",
    "            print(\"number entered correctly\")\n",
    "    elif isinstance(number,float):\n",
    "        raise UnexpectedType\n",
    "    elif isinstance(number,str):\n",
    "        raise UnexpectedType\n",
    "except UnexpectedType:\n",
    "    print(\"Unexpected type: type(number)==\"+type(number).__name__+\"\\nYet the expected one is int\")\n",
    "except ValueTooLarge:\n",
    "    print(\"Value too large: number==\"+str(number)+\"\\n--Yet the largest expected one is \"+str(max_number))\n"
   ]
  },
  {
   "cell_type": "markdown",
   "metadata": {},
   "source": [
    "#### A more complex class exception "
   ]
  },
  {
   "cell_type": "code",
   "execution_count": 38,
   "metadata": {},
   "outputs": [
    {
     "ename": "SalaryNotInRangeError",
     "evalue": "0 -> Salary is not in (5000, 15000) range",
     "output_type": "error",
     "traceback": [
      "\u001b[1;31m---------------------------------------------------------------------------\u001b[0m",
      "\u001b[1;31mSalaryNotInRangeError\u001b[0m                     Traceback (most recent call last)",
      "Cell \u001b[1;32mIn [38], line 20\u001b[0m\n\u001b[0;32m     18\u001b[0m salary \u001b[39m=\u001b[39m \u001b[39m0\u001b[39m\n\u001b[0;32m     19\u001b[0m \u001b[39mif\u001b[39;00m \u001b[39mnot\u001b[39;00m \u001b[39m5000\u001b[39m \u001b[39m<\u001b[39m salary \u001b[39m<\u001b[39m \u001b[39m15000\u001b[39m:\n\u001b[1;32m---> 20\u001b[0m     \u001b[39mraise\u001b[39;00m SalaryNotInRangeError(salary)\n",
      "\u001b[1;31mSalaryNotInRangeError\u001b[0m: 0 -> Salary is not in (5000, 15000) range"
     ]
    }
   ],
   "source": [
    "class SalaryNotInRangeError(Exception):\n",
    "    \"\"\"Exception raised for errors in the input salary.\n",
    "\n",
    "    Attributes:\n",
    "        salary -- input salary which caused the error\n",
    "        message -- explanation of the error\n",
    "    \"\"\"\n",
    "\n",
    "    def __init__(self, salary, message=\"Salary is not in (5000, 15000) range\"):\n",
    "        self.salary = salary\n",
    "        self.message = message\n",
    "        super().__init__(self.message)\n",
    "\n",
    "    def __str__(self):\n",
    "        # returns the message printed after the error\n",
    "        return f'{self.salary} -> {self.message}'\n",
    "\n",
    "\n",
    "salary = 0\n",
    "if not 5000 < salary < 15000:\n",
    "    raise SalaryNotInRangeError(salary)"
   ]
  },
  {
   "cell_type": "markdown",
   "metadata": {},
   "source": [
    "## Introduction to Pytest"
   ]
  },
  {
   "cell_type": "markdown",
   "metadata": {},
   "source": [
    "A simple call `!pytest` will demand pytest to search for test_*.py or *_test.py files, imported by their test package name in the current working directory or subfolders (like `does_pytest_enter_here` in this example).\n",
    "\n",
    "From these files, pytest will collect test items:\n",
    "\n",
    "- test prefixed test functions or methods outside of class \n",
    "\n",
    "- test prefixed test functions or methods inside Test prefixed test classes (without an \\_\\_init\\_\\_ method)"
   ]
  },
  {
   "cell_type": "code",
   "execution_count": 49,
   "metadata": {},
   "outputs": [
    {
     "name": "stdout",
     "output_type": "stream",
     "text": [
      "============================= test session starts =============================\n",
      "platform win32 -- Python 3.10.6, pytest-7.2.0, pluggy-1.0.0\n",
      "rootdir: c:\\Users\\jtros\\CS\\assos\\automatants\\VPLog\\formations\\maFormaTipsIA\\examples\\tests\n",
      "collected 6 items\n",
      "\n",
      "test_assert_pytest.py FF.F                                               [ 66%]\n",
      "test_class_pytest.py F                                                   [ 83%]\n",
      "does_pytest_enter_here\\pytest_test.py F                                  [100%]\n",
      "\n",
      "================================== FAILURES ===================================\n",
      "_________________________________ test_answer _________________________________\n",
      "\n",
      "    def test_answer():\n",
      "        assert func(4) == 5\n",
      ">       assert func(3) == 5\n",
      "E       assert 4 == 5\n",
      "E        +  where 4 = func(3)\n",
      "\n",
      "test_assert_pytest.py:10: AssertionError\n",
      "_________________________________ testanswer __________________________________\n",
      "\n",
      "    def testanswer():\n",
      "        assert func(4) == 5\n",
      ">       assert func(3) == 5\n",
      "E       assert 4 == 5\n",
      "E        +  where 4 = func(3)\n",
      "\n",
      "test_assert_pytest.py:15: AssertionError\n",
      "_______________________ TestClassDemoInstance.test_two ________________________\n",
      "\n",
      "self = <test_assert_pytest.TestClassDemoInstance object at 0x000001596A4A6620>\n",
      "\n",
      "    def test_two(self):\n",
      ">       assert self.value == 1\n",
      "E       assert 0 == 1\n",
      "E        +  where 0 = <test_assert_pytest.TestClassDemoInstance object at 0x000001596A4A6620>.value\n",
      "\n",
      "test_assert_pytest.py:31: AssertionError\n",
      "___________________ TestClassDemoInstanceBis.test_function ____________________\n",
      "\n",
      "self = <test_class_pytest.TestClassDemoInstanceBis object at 0x000001596A4A5E70>\n",
      "\n",
      "    def test_function(self):\n",
      "        self.value = 1\n",
      "        assert self.value == 1\n",
      "        if not (isinstance(self.value, type(self.value_bis))):\n",
      ">           raise UnexpectedType\n",
      "E           test_class_pytest.UnexpectedType\n",
      "\n",
      "test_class_pytest.py:13: UnexpectedType\n",
      "_______________________________ test_answer_bis _______________________________\n",
      "\n",
      "    def test_answer_bis():\n",
      "        assert func(4) == 5\n",
      ">       assert func(3) == 5\n",
      "E       assert 4 == 5\n",
      "E        +  where 4 = func(3)\n",
      "\n",
      "does_pytest_enter_here\\pytest_test.py:10: AssertionError\n",
      "=========================== short test summary info ===========================\n",
      "FAILED test_assert_pytest.py::test_answer - assert 4 == 5\n",
      "FAILED test_assert_pytest.py::testanswer - assert 4 == 5\n",
      "FAILED test_assert_pytest.py::TestClassDemoInstance::test_two - assert 0 == 1\n",
      "FAILED test_class_pytest.py::TestClassDemoInstanceBis::test_function - test_c...\n",
      "FAILED does_pytest_enter_here/pytest_test.py::test_answer_bis - assert 4 == 5\n",
      "========================= 5 failed, 1 passed in 0.09s =========================\n"
     ]
    }
   ],
   "source": [
    "! pytest"
   ]
  },
  {
   "cell_type": "markdown",
   "metadata": {},
   "source": [
    "It gives a summary of the failures along with there origins."
   ]
  },
  {
   "cell_type": "markdown",
   "metadata": {},
   "source": [
    "**Remark:**\n",
    "We notice that the function `answer_test` in `test_pytest.py` was not run by pytest. Indeed, it is not of the form `test*`. "
   ]
  },
  {
   "cell_type": "markdown",
   "metadata": {},
   "source": [
    "Otherwise, you can precise which script to check:"
   ]
  },
  {
   "cell_type": "code",
   "execution_count": 46,
   "metadata": {},
   "outputs": [
    {
     "name": "stdout",
     "output_type": "stream",
     "text": [
      "============================= test session starts =============================\n",
      "platform win32 -- Python 3.10.6, pytest-7.2.0, pluggy-1.0.0\n",
      "rootdir: c:\\Users\\jtros\\CS\\assos\\automatants\\VPLog\\formations\\maFormaTipsIA\\examples\\tests\n",
      "collected 4 items\n",
      "\n",
      "test_assert_pytest.py FF.F                                               [100%]\n",
      "\n",
      "================================== FAILURES ===================================\n",
      "_________________________________ test_answer _________________________________\n",
      "\n",
      "    def test_answer():\n",
      "        assert func(4) == 5\n",
      ">       assert func(3) == 5\n",
      "E       assert 4 == 5\n",
      "E        +  where 4 = func(3)\n",
      "\n",
      "test_assert_pytest.py:10: AssertionError\n",
      "_________________________________ testanswer __________________________________\n",
      "\n",
      "    def testanswer():\n",
      "        assert func(4) == 5\n",
      ">       assert func(3) == 5\n",
      "E       assert 4 == 5\n",
      "E        +  where 4 = func(3)\n",
      "\n",
      "test_assert_pytest.py:15: AssertionError\n",
      "_______________________ TestClassDemoInstance.test_two ________________________\n",
      "\n",
      "self = <test_assert_pytest.TestClassDemoInstance object at 0x000001E60A79CF10>\n",
      "\n",
      "    def test_two(self):\n",
      ">       assert self.value == 1\n",
      "E       assert 0 == 1\n",
      "E        +  where 0 = <test_assert_pytest.TestClassDemoInstance object at 0x000001E60A79CF10>.value\n",
      "\n",
      "test_assert_pytest.py:31: AssertionError\n",
      "=========================== short test summary info ===========================\n",
      "FAILED test_assert_pytest.py::test_answer - assert 4 == 5\n",
      "FAILED test_assert_pytest.py::testanswer - assert 4 == 5\n",
      "FAILED test_assert_pytest.py::TestClassDemoInstance::test_two - assert 0 == 1\n",
      "========================= 3 failed, 1 passed in 0.07s =========================\n"
     ]
    }
   ],
   "source": [
    "! pytest test_assert_pytest.py"
   ]
  },
  {
   "cell_type": "code",
   "execution_count": 48,
   "metadata": {},
   "outputs": [
    {
     "name": "stdout",
     "output_type": "stream",
     "text": [
      "============================= test session starts =============================\n",
      "platform win32 -- Python 3.10.6, pytest-7.2.0, pluggy-1.0.0\n",
      "rootdir: c:\\Users\\jtros\\CS\\assos\\automatants\\VPLog\\formations\\maFormaTipsIA\\examples\\tests\n",
      "collected 1 item\n",
      "\n",
      "test_class_pytest.py F                                                   [100%]\n",
      "\n",
      "================================== FAILURES ===================================\n",
      "___________________ TestClassDemoInstanceBis.test_function ____________________\n",
      "\n",
      "self = <test_class_pytest.TestClassDemoInstanceBis object at 0x000001F6A07CDAE0>\n",
      "\n",
      "    def test_function(self):\n",
      "        self.value = 1\n",
      "        assert self.value == 1\n",
      "        if not (isinstance(self.value, type(self.value_bis))):\n",
      ">           raise UnexpectedType\n",
      "E           test_class_pytest.UnexpectedType\n",
      "\n",
      "test_class_pytest.py:13: UnexpectedType\n",
      "=========================== short test summary info ===========================\n",
      "FAILED test_class_pytest.py::TestClassDemoInstanceBis::test_function - test_c...\n",
      "============================== 1 failed in 0.09s ==============================\n"
     ]
    }
   ],
   "source": [
    "! pytest test_class_pytest.py"
   ]
  },
  {
   "cell_type": "code",
   "execution_count": null,
   "metadata": {},
   "outputs": [],
   "source": []
  }
 ],
 "metadata": {
  "kernelspec": {
   "display_name": "Python 3.10.6 ('venv_bonnes_pratiques': venv)",
   "language": "python",
   "name": "python3"
  },
  "language_info": {
   "codemirror_mode": {
    "name": "ipython",
    "version": 3
   },
   "file_extension": ".py",
   "mimetype": "text/x-python",
   "name": "python",
   "nbconvert_exporter": "python",
   "pygments_lexer": "ipython3",
   "version": "3.10.6"
  },
  "orig_nbformat": 4,
  "vscode": {
   "interpreter": {
    "hash": "55faf2561a7df488c8f87bb49205ef4d0e3c272ed74faecca3039a74e8e3bea5"
   }
  }
 },
 "nbformat": 4,
 "nbformat_minor": 2
}
