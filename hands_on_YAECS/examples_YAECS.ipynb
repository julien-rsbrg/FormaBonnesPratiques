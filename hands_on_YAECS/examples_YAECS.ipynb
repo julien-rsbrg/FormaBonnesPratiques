{
 "cells": [
  {
   "cell_type": "markdown",
   "metadata": {},
   "source": [
    "# Examples of YAECS"
   ]
  },
  {
   "cell_type": "markdown",
   "metadata": {},
   "source": [
    "main source: https://gitlab.com/reactivereality/public/yaecs/-/wikis/configuration-class#i-getting-started"
   ]
  },
  {
   "cell_type": "markdown",
   "metadata": {},
   "source": [
    "## First steps"
   ]
  },
  {
   "cell_type": "markdown",
   "metadata": {},
   "source": [
    "First of all, you need to make a subclass of yaecs.Configuration to set these two functions:"
   ]
  },
  {
   "cell_type": "code",
   "execution_count": 1,
   "metadata": {},
   "outputs": [],
   "source": [
    "from yaecs import Configuration\n",
    "\n",
    "class ProjectConfiguration(Configuration):\n",
    "    @staticmethod\n",
    "    def get_default_config_path():\n",
    "        return \"./configs/default_config.yaml\"\n",
    "\n",
    "    def parameters_pre_processing(self):\n",
    "        return {}"
   ]
  },
  {
   "cell_type": "markdown",
   "metadata": {},
   "source": [
    "You can now load your config files..."
   ]
  },
  {
   "cell_type": "code",
   "execution_count": 3,
   "metadata": {},
   "outputs": [
    {
     "name": "stdout",
     "output_type": "stream",
     "text": [
      "Building config from default :  ./configs/default_config.yaml\n",
      "Merging from new config : ./configs/experiment_config_1.yaml\n",
      "WARNING: parameter 'ip', encountered while merging params from the command line, does not match a param in the config. It will not be merged.\n",
      "WARNING: parameter 'stdin', encountered while merging params from the command line, does not match a param in the config. It will not be merged.\n",
      "WARNING: parameter 'control', encountered while merging params from the command line, does not match a param in the config. It will not be merged.\n",
      "WARNING: parameter 'hb', encountered while merging params from the command line, does not match a param in the config. It will not be merged.\n",
      "WARNING: parameter 'Session.signature_scheme', encountered while merging params from the command line, does not match a param in the config. It will not be merged.\n",
      "WARNING: parameter 'Session.key', encountered while merging params from the command line, does not match a param in the config. It will not be merged.\n",
      "WARNING: parameter 'shell', encountered while merging params from the command line, does not match a param in the config. It will not be merged.\n",
      "WARNING: parameter 'transport', encountered while merging params from the command line, does not match a param in the config. It will not be merged.\n",
      "WARNING: parameter 'iopub', encountered while merging params from the command line, does not match a param in the config. It will not be merged.\n",
      "WARNING: parameter 'f', encountered while merging params from the command line, does not match a param in the config. It will not be merged.\n",
      "Performing post-processing for modified parameters...\n",
      "\n",
      "MAIN CONFIG :\n",
      "Configuration hierarchy :\n",
      "> ./configs/default_config.yaml\n",
      "> ./configs/experiment_config_1.yaml\n",
      "\n",
      " - network_layers : 5\n",
      " - dataset_version : 1.4\n",
      " - train_val_test_splits : [0.8, 0.1, 0.1]\n",
      " - learning_rate : 0.05\n",
      " - a_value_that_is_useful_somewhere_but_will_never_change : 42\n",
      " - output_directory : ./exp1\n",
      "\n"
     ]
    }
   ],
   "source": [
    "config = ProjectConfiguration.load_config(\"./configs/experiment_config_1.yaml\")\n",
    "print(config.details())\n"
   ]
  },
  {
   "cell_type": "markdown",
   "metadata": {},
   "source": [
    "... and access its parameters with both methods:"
   ]
  },
  {
   "cell_type": "code",
   "execution_count": 4,
   "metadata": {},
   "outputs": [
    {
     "name": "stdout",
     "output_type": "stream",
     "text": [
      "[0.8, 0.1, 0.1]\n",
      "[0.8, 0.1, 0.1]\n"
     ]
    }
   ],
   "source": [
    "print(config.train_val_test_splits)\n",
    "print(config[\"train_val_test_splits\"])"
   ]
  },
  {
   "cell_type": "markdown",
   "metadata": {},
   "source": [
    "## Simple usage examples"
   ]
  },
  {
   "cell_type": "code",
   "execution_count": 21,
   "metadata": {},
   "outputs": [
    {
     "name": "stdout",
     "output_type": "stream",
     "text": [
      "Building config from default :  ./configs/default_config.yaml\n",
      "Merging from new config : ./configs/experiment_config_1.yaml\n",
      "WARNING: parameter 'ip', encountered while merging params from the command line, does not match a param in the config. It will not be merged.\n",
      "WARNING: parameter 'stdin', encountered while merging params from the command line, does not match a param in the config. It will not be merged.\n",
      "WARNING: parameter 'control', encountered while merging params from the command line, does not match a param in the config. It will not be merged.\n",
      "WARNING: parameter 'hb', encountered while merging params from the command line, does not match a param in the config. It will not be merged.\n",
      "WARNING: parameter 'Session.signature_scheme', encountered while merging params from the command line, does not match a param in the config. It will not be merged.\n",
      "WARNING: parameter 'Session.key', encountered while merging params from the command line, does not match a param in the config. It will not be merged.\n",
      "WARNING: parameter 'shell', encountered while merging params from the command line, does not match a param in the config. It will not be merged.\n",
      "WARNING: parameter 'transport', encountered while merging params from the command line, does not match a param in the config. It will not be merged.\n",
      "WARNING: parameter 'iopub', encountered while merging params from the command line, does not match a param in the config. It will not be merged.\n",
      "WARNING: parameter 'f', encountered while merging params from the command line, does not match a param in the config. It will not be merged.\n",
      "Performing post-processing for modified parameters...\n",
      "Performing post-processing for modified parameters...\n",
      "0.1\n",
      "Configuration saved in : c:\\Users\\jtros\\CS\\assos\\automatants\\VPLog\\formations\\maFormaTipsIA\\examples\\HandsOnYAECS\\configs\\lr0.1_config.yaml\n",
      "Building config from default :  ./configs/default_config.yaml\n",
      "Merging from new config : ./configs/experiment_config_1.yaml\n",
      "WARNING: parameter 'ip', encountered while merging params from the command line, does not match a param in the config. It will not be merged.\n",
      "WARNING: parameter 'stdin', encountered while merging params from the command line, does not match a param in the config. It will not be merged.\n",
      "WARNING: parameter 'control', encountered while merging params from the command line, does not match a param in the config. It will not be merged.\n",
      "WARNING: parameter 'hb', encountered while merging params from the command line, does not match a param in the config. It will not be merged.\n",
      "WARNING: parameter 'Session.signature_scheme', encountered while merging params from the command line, does not match a param in the config. It will not be merged.\n",
      "WARNING: parameter 'Session.key', encountered while merging params from the command line, does not match a param in the config. It will not be merged.\n",
      "WARNING: parameter 'shell', encountered while merging params from the command line, does not match a param in the config. It will not be merged.\n",
      "WARNING: parameter 'transport', encountered while merging params from the command line, does not match a param in the config. It will not be merged.\n",
      "WARNING: parameter 'iopub', encountered while merging params from the command line, does not match a param in the config. It will not be merged.\n",
      "WARNING: parameter 'f', encountered while merging params from the command line, does not match a param in the config. It will not be merged.\n",
      "Performing post-processing for modified parameters...\n",
      "Performing post-processing for modified parameters...\n",
      "0.01\n",
      "Configuration saved in : c:\\Users\\jtros\\CS\\assos\\automatants\\VPLog\\formations\\maFormaTipsIA\\examples\\HandsOnYAECS\\configs\\lr0.01_config.yaml\n",
      "Building config from default :  ./configs/default_config.yaml\n",
      "Merging from new config : ./configs/experiment_config_1.yaml\n",
      "WARNING: parameter 'ip', encountered while merging params from the command line, does not match a param in the config. It will not be merged.\n",
      "WARNING: parameter 'stdin', encountered while merging params from the command line, does not match a param in the config. It will not be merged.\n",
      "WARNING: parameter 'control', encountered while merging params from the command line, does not match a param in the config. It will not be merged.\n",
      "WARNING: parameter 'hb', encountered while merging params from the command line, does not match a param in the config. It will not be merged.\n",
      "WARNING: parameter 'Session.signature_scheme', encountered while merging params from the command line, does not match a param in the config. It will not be merged.\n",
      "WARNING: parameter 'Session.key', encountered while merging params from the command line, does not match a param in the config. It will not be merged.\n",
      "WARNING: parameter 'shell', encountered while merging params from the command line, does not match a param in the config. It will not be merged.\n",
      "WARNING: parameter 'transport', encountered while merging params from the command line, does not match a param in the config. It will not be merged.\n",
      "WARNING: parameter 'iopub', encountered while merging params from the command line, does not match a param in the config. It will not be merged.\n",
      "WARNING: parameter 'f', encountered while merging params from the command line, does not match a param in the config. It will not be merged.\n",
      "Performing post-processing for modified parameters...\n",
      "Performing post-processing for modified parameters...\n",
      "0.001\n",
      "Configuration saved in : c:\\Users\\jtros\\CS\\assos\\automatants\\VPLog\\formations\\maFormaTipsIA\\examples\\HandsOnYAECS\\configs\\lr0.001_config.yaml\n"
     ]
    }
   ],
   "source": [
    "import os\n",
    "\n",
    "def run_experiment(config):\n",
    "    # the dummiest experiment ever \n",
    "    print(config.learning_rate)\n",
    "\n",
    "learning_rates = [0.1, 0.01, 0.001]\n",
    "\n",
    "for i in learning_rates:\n",
    "    config = ProjectConfiguration.load_config(\"./configs/experiment_config_1.yaml\")\n",
    "    config.merge({\"learning_rate\": i})\n",
    "    run_experiment(config)\n",
    "    config.save(os.path.join(config.output_directory, \"lr{}_config.yaml\".format(i)))\n"
   ]
  },
  {
   "cell_type": "markdown",
   "metadata": {},
   "source": [
    "In `lr*_config_hierarchy.yaml`, you will see a simple config file with only the parameters of interest displayed (here, it is `learning_rate`).\n",
    "\n",
    "Then, why should we bother with the `lr*_config.yaml` ? It is for reproducibility matters. In case the parent config `experiment_config_1.yaml` is modified afterwards, we still keep all the parameters as they were during the experiment."
   ]
  },
  {
   "cell_type": "markdown",
   "metadata": {},
   "source": [
    "## Reproducing experiments"
   ]
  },
  {
   "cell_type": "markdown",
   "metadata": {},
   "source": [
    "If you happen to change a parent config (like `default_config.yaml`), you only have to ensure that your\n",
    "new code with the new parameters has the same behaviour as the old code. "
   ]
  }
 ],
 "metadata": {
  "kernelspec": {
   "display_name": "Python 3.10.6 ('venv_bonnes_pratiques': venv)",
   "language": "python",
   "name": "python3"
  },
  "language_info": {
   "codemirror_mode": {
    "name": "ipython",
    "version": 3
   },
   "file_extension": ".py",
   "mimetype": "text/x-python",
   "name": "python",
   "nbconvert_exporter": "python",
   "pygments_lexer": "ipython3",
   "version": "3.10.6"
  },
  "orig_nbformat": 4,
  "vscode": {
   "interpreter": {
    "hash": "307996d2769eb3ce596f77581c2c891d138626983a132d435ef4c786095dc53d"
   }
  }
 },
 "nbformat": 4,
 "nbformat_minor": 2
}
